{
 "cells": [
  {
   "cell_type": "code",
   "execution_count": 1,
   "metadata": {},
   "outputs": [],
   "source": [
    "import pandas\n",
    "import csv"
   ]
  },
  {
   "cell_type": "code",
   "execution_count": 2,
   "metadata": {},
   "outputs": [
    {
     "name": "stderr",
     "output_type": "stream",
     "text": [
      "/home/yi-ting/anaconda3/lib/python3.7/site-packages/IPython/core/interactiveshell.py:3058: DtypeWarning: Columns (1,2,3,4,11,12,13,15,18,21,24,39,40,48,49,54,55,56,70,71,77,80,83,84,89,91,92,93,95) have mixed types. Specify dtype option on import or set low_memory=False.\n",
      "  interactivity=interactivity, compiler=compiler, result=result)\n"
     ]
    },
    {
     "data": {
      "text/plain": [
       "REGION     0\n",
       "AGER20     0\n",
       "ANARR      0\n",
       "ANEMR      0\n",
       "ASCEN      0\n",
       "BAIN       0\n",
       "BATI       0\n",
       "CATL       0\n",
       "CHOS       0\n",
       "CLIM       0\n",
       "CMBL       0\n",
       "COUPLE     0\n",
       "CS1        0\n",
       "DIPL_15    0\n",
       "EMPL       0\n",
       "ETUD       0\n",
       "GARL       0\n",
       "ILTUU      0\n",
       "IMMI       0\n",
       "INAT       0\n",
       "INFAM      0\n",
       "MOCO       0\n",
       "MODV       0\n",
       "NA38       0\n",
       "NATC       0\n",
       "NATNC      0\n",
       "NBPI       0\n",
       "NPERR      0\n",
       "SANI       0\n",
       "SEXE       0\n",
       "SFM        0\n",
       "STOCD      0\n",
       "TACT       0\n",
       "VOIT       0\n",
       "dtype: int64"
      ]
     },
     "execution_count": 2,
     "metadata": {},
     "output_type": "execute_result"
    }
   ],
   "source": [
    "# read the GrandEst csv file\n",
    "csv_df = pandas.read_csv('GrandEst.csv',sep=';')\n",
    "\n",
    "# drop the unwanted columns\n",
    "list_2_drop = ['NUMMR','ACHLR','AEMM','AEMMR','AGED','AGEREV','AGEREVQ','ANAI','ANEM','APAF','ARRIVR','CATPC','CHAU','CHFL','CS2','CS3','CUIS','DEPT',\n",
    "               'DEROU','EAU','EGOUL','ELEC','EPCI','HLML','ILETUD','ILETUU','ILT','INAI','INPER','INPERF','IPONDI','IRAN','IRANUU','LIENF','LPRF','LPRM',\n",
    "               'METRODOM','NA88','NAF08','NAIDT','NAT13','NAT49','NATN12','NATN49','NUMF','ORIDT','PNAI12','PROF','RECH','SANIDOM','STAT','STAT_CONJ',\n",
    "               'SURF','TACTD16','TP','TRANS','TYPC','TYPFC','TYPL','TYPMD','TYPMR','UR','WC']\n",
    "new_csv_df = csv_df.drop(list_2_drop, axis=1)\n",
    "\n",
    "# check if there's NaN value in the dataframe\n",
    "new_csv_df.isna().sum()"
   ]
  },
  {
   "cell_type": "code",
   "execution_count": 3,
   "metadata": {},
   "outputs": [],
   "source": [
    "# save this new dataframe to another CSV, not to mess the original GrandEst csv\n",
    "new_csv_df.to_csv(r'export_GrandEst.csv',index = None, header=False)"
   ]
  },
  {
   "cell_type": "code",
   "execution_count": 4,
   "metadata": {},
   "outputs": [],
   "source": [
    "# transform the csv to txt\n",
    "with open(\"SPMF_ready_GrandEst.txt\",\"w+\") as output_file:\n",
    "    with open(\"export_GrandEst.csv\",\"r\") as input_file:\n",
    "        [ output_file.write(\" \".join(row)+'\\n') for row in csv.reader(input_file)]\n",
    "    output_file.close()"
   ]
  },
  {
   "cell_type": "code",
   "execution_count": null,
   "metadata": {},
   "outputs": [],
   "source": []
  }
 ],
 "metadata": {
  "kernelspec": {
   "display_name": "Python 3",
   "language": "python",
   "name": "python3"
  },
  "language_info": {
   "codemirror_mode": {
    "name": "ipython",
    "version": 3
   },
   "file_extension": ".py",
   "mimetype": "text/x-python",
   "name": "python",
   "nbconvert_exporter": "python",
   "pygments_lexer": "ipython3",
   "version": "3.7.4"
  }
 },
 "nbformat": 4,
 "nbformat_minor": 4
}
